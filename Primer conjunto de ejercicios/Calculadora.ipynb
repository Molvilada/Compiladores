{
  "nbformat": 4,
  "nbformat_minor": 0,
  "metadata": {
    "colab": {
      "name": "Calculadora.ipynb",
      "provenance": [],
      "collapsed_sections": [],
      "authorship_tag": "ABX9TyMQFMCZlCTAmPqP6N2W4Sjo",
      "include_colab_link": true
    },
    "kernelspec": {
      "name": "python3",
      "display_name": "Python 3"
    },
    "language_info": {
      "name": "python"
    }
  },
  "cells": [
    {
      "cell_type": "markdown",
      "metadata": {
        "id": "view-in-github",
        "colab_type": "text"
      },
      "source": [
        "<a href=\"https://colab.research.google.com/github/Molvilada/Compiladores/blob/main/Primer%20conjunto%20de%20ejercicios/Calculadora.ipynb\" target=\"_parent\"><img src=\"https://colab.research.google.com/assets/colab-badge.svg\" alt=\"Open In Colab\"/></a>"
      ]
    },
    {
      "cell_type": "code",
      "metadata": {
        "id": "z1IP2a1-1T_Z"
      },
      "source": [
        "import re"
      ],
      "execution_count": 4,
      "outputs": []
    },
    {
      "cell_type": "code",
      "metadata": {
        "id": "cSL0P4aqnY2F"
      },
      "source": [
        "def calculator(s):\n",
        "  arr = []\n",
        "  prev = \"\"\n",
        "  s = s.replace(\" \", \"\")\n",
        "  for char in s:\n",
        "    if (prev.isdigit() and char.isdigit()) or (prev == \".\" and char.isdigit()) or (prev.isdigit() and char == \".\"):\n",
        "        arr.append(arr.pop() + char)\n",
        "    else:\n",
        "        arr.append(char)\n",
        "    prev = char\n",
        "  return calculate(arr)\n",
        "\n",
        "def calculate(tokens):\n",
        "  if len(tokens) == 0:\n",
        "    return 0\n",
        "  stack = []\n",
        "  operation = '+'\n",
        "  while len(tokens) > 0:\n",
        "    token = tokens.pop(0)\n",
        "    if(token == \"(\"):\n",
        "      num = calculate(tokens) \n",
        "      token = str(num)\n",
        "    if(re.search(\"[0-9]+.?[0-9]*\", token)):\n",
        "      token = float(token)\n",
        "      if len(stack) == 0 or operation == \"+\":\n",
        "        stack.append(token)\n",
        "      elif operation == \"-\":\n",
        "        stack.append(-token)\n",
        "      elif operation == \"*\":\n",
        "        stack[-1] = stack[-1]*token\n",
        "      elif operation == \"/\":\n",
        "        stack[-1] = stack[-1]/token\n",
        "    elif(token != \")\"):\n",
        "      operation = token\n",
        "    else:\n",
        "      break \n",
        "  return sum(stack)"
      ],
      "execution_count": 12,
      "outputs": []
    },
    {
      "cell_type": "code",
      "metadata": {
        "colab": {
          "base_uri": "https://localhost:8080/"
        },
        "id": "cN0ofQyEqD6T",
        "outputId": "b4d2c626-41c8-4b46-fb52-1ab10cd3d87e"
      },
      "source": [
        "a = calculator(\"(2.5+6*3+5-(3*14/7.6+2)*5)+3\")\n",
        "print(\"SOLUCION: \", a)"
      ],
      "execution_count": 13,
      "outputs": [
        {
          "output_type": "stream",
          "name": "stdout",
          "text": [
            "SOLUCION:  -9.131578947368418\n"
          ]
        }
      ]
    }
  ]
}