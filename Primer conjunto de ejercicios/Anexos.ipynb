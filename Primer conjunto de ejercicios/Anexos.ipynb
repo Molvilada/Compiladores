{
  "nbformat": 4,
  "nbformat_minor": 0,
  "metadata": {
    "colab": {
      "name": "Anexos.ipynb",
      "provenance": [],
      "collapsed_sections": [],
      "authorship_tag": "ABX9TyMJ3wtWtV6EN/K4+XjtmviM",
      "include_colab_link": true
    },
    "kernelspec": {
      "name": "python3",
      "display_name": "Python 3"
    },
    "language_info": {
      "name": "python"
    }
  },
  "cells": [
    {
      "cell_type": "markdown",
      "metadata": {
        "id": "view-in-github",
        "colab_type": "text"
      },
      "source": [
        "<a href=\"https://colab.research.google.com/github/Molvilada/Compiladores/blob/main/Primer%20conjunto%20de%20ejercicios/Anexos.ipynb\" target=\"_parent\"><img src=\"https://colab.research.google.com/assets/colab-badge.svg\" alt=\"Open In Colab\"/></a>"
      ]
    },
    {
      "cell_type": "code",
      "metadata": {
        "id": "jMASbZiR_4fj"
      },
      "source": [
        "import numpy as np"
      ],
      "execution_count": null,
      "outputs": []
    },
    {
      "cell_type": "markdown",
      "metadata": {
        "id": "T7SAnCVmDBMI"
      },
      "source": [
        "# Ejercicio 3.4.3"
      ]
    },
    {
      "cell_type": "code",
      "metadata": {
        "id": "aA-YGBhAR7xc"
      },
      "source": [
        "def failureFunction(substring):\n",
        "    t = 0\n",
        "    arr = np.ones(len(substring), dtype=int) \n",
        "    arr[0] = 0\n",
        "    for s in range(1, len(substring)):  \n",
        "      while(t > 0 and substring[s] != substring[t]):\n",
        "        t = arr[t - 1]\n",
        "      if(substring[s] == substring[t]):\n",
        "        t += 1\n",
        "        arr[s] = t\n",
        "      else:\n",
        "        arr[s] = 0\n",
        "    return arr"
      ],
      "execution_count": null,
      "outputs": []
    },
    {
      "cell_type": "code",
      "metadata": {
        "colab": {
          "base_uri": "https://localhost:8080/"
        },
        "id": "5Y5jn5LsDJkP",
        "outputId": "450f6eed-af96-4f5a-f344-341b1ff28784"
      },
      "source": [
        "print(failureFunction(\"abababaab\"))\n",
        "print(failureFunction(\"aaaaaa\"))\n",
        "print(failureFunction(\"abbaabb\"))"
      ],
      "execution_count": null,
      "outputs": [
        {
          "output_type": "stream",
          "name": "stdout",
          "text": [
            "[0 0 1 2 3 4 5 1 2]\n",
            "[0 1 2 3 4 5]\n",
            "[0 0 0 1 1 2 3]\n"
          ]
        }
      ]
    },
    {
      "cell_type": "markdown",
      "metadata": {
        "id": "5a1EUzKFC3mw"
      },
      "source": [
        "\n",
        "#Ejercicio 3.4.6"
      ]
    },
    {
      "cell_type": "code",
      "metadata": {
        "id": "o09frLiywvoe"
      },
      "source": [
        "def kmp(substring, string):\n",
        "  arr = failureFunction(substring)    \n",
        "  print(arr)\n",
        "  s = 0\n",
        "  for i in range(1, len(string)): \n",
        "      while(s > 0 and string[i] != substring[s]):\n",
        "          s = arr[s-1]\n",
        "      if(string[i] == substring[s]):\n",
        "          s += 1\n",
        "      if(s == len(substring)):\n",
        "          return True\n",
        "\n",
        "  return False"
      ],
      "execution_count": null,
      "outputs": []
    },
    {
      "cell_type": "code",
      "metadata": {
        "colab": {
          "base_uri": "https://localhost:8080/"
        },
        "id": "50vAcU0b_HOp",
        "outputId": "27199bf5-2244-4bae-e6ee-e22c0bd491cc"
      },
      "source": [
        "substring = \"ababaa\"\n",
        "string = \"abababaab\"\n",
        "print(kmp(substring, string))"
      ],
      "execution_count": null,
      "outputs": [
        {
          "output_type": "stream",
          "name": "stdout",
          "text": [
            "True\n"
          ]
        }
      ]
    },
    {
      "cell_type": "code",
      "metadata": {
        "colab": {
          "base_uri": "https://localhost:8080/"
        },
        "id": "U_BCR_B8CgsZ",
        "outputId": "d7670575-4f38-4aea-d8bb-af0e1bf92cee"
      },
      "source": [
        "string = \"abababbaa\"\n",
        "print(kmp(substring, string))"
      ],
      "execution_count": null,
      "outputs": [
        {
          "output_type": "stream",
          "name": "stdout",
          "text": [
            "False\n"
          ]
        }
      ]
    },
    {
      "cell_type": "markdown",
      "metadata": {
        "id": "oCA7RI7jMjpl"
      },
      "source": [
        "# Ejercicio 3.4.9\n"
      ]
    },
    {
      "cell_type": "code",
      "metadata": {
        "colab": {
          "base_uri": "https://localhost:8080/"
        },
        "id": "SjsDjBSLMm71",
        "outputId": "2e34503f-65ab-4d61-a69a-fb1a4352daf9"
      },
      "source": [
        "# Punto b\n",
        "print(failureFunction(\"abaababa\"))\n",
        "\n",
        "# Punto c\n",
        "print(failureFunction(\"abaababaabaab\"))\n"
      ],
      "execution_count": null,
      "outputs": [
        {
          "output_type": "stream",
          "name": "stdout",
          "text": [
            "[0 0 1 1 2 3 2 3]\n",
            "[0 0 1 1 2 3 2 3 4 5 6 4 5]\n"
          ]
        }
      ]
    },
    {
      "cell_type": "code",
      "metadata": {
        "colab": {
          "base_uri": "https://localhost:8080/"
        },
        "id": "pB4OzGFVVCvD",
        "outputId": "5526463c-a5fc-4e98-a103-dbb177897f3e"
      },
      "source": [
        "substring = \"abaababa\"\n",
        "string = \"abaababaabaab\"\n",
        "print(kmp(substring, string))"
      ],
      "execution_count": null,
      "outputs": [
        {
          "output_type": "stream",
          "name": "stdout",
          "text": [
            "[0 0 1 1 2 3 2 3]\n",
            "False\n"
          ]
        }
      ]
    }
  ]
}